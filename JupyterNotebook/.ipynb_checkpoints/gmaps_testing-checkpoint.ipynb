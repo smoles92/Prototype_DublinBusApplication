{
 "cells": [
  {
   "cell_type": "code",
   "execution_count": 1,
   "metadata": {
    "collapsed": true
   },
   "outputs": [],
   "source": [
    "import pandas as pd"
   ]
  },
  {
   "cell_type": "code",
   "execution_count": 2,
   "metadata": {
    "collapsed": true
   },
   "outputs": [],
   "source": [
    "# For more info on gmplot: see https://pypi.python.org/pypi/gmplot/1.0.5\n",
    "import gmplot"
   ]
  },
  {
   "cell_type": "markdown",
   "metadata": {},
   "source": [
    "# Read in and plot the three scheduled datasets."
   ]
  },
  {
   "cell_type": "code",
   "execution_count": 3,
   "metadata": {
    "collapsed": true
   },
   "outputs": [],
   "source": [
    "# Read in a dataframe for pandas. Use a path from your own directories. Files are too big to upload to git.\n",
    "dftest = pd.read_csv('53_schedule_test.csv', sep=',', error_bad_lines=False, index_col=False, dtype='unicode')"
   ]
  },
  {
   "cell_type": "code",
   "execution_count": 4,
   "metadata": {
    "collapsed": true
   },
   "outputs": [],
   "source": [
    "# Create a list from the Longitude coordinates from the dataframe\n",
    "latitude = []\n",
    "for row in dftest['lat']:\n",
    "        latitude.append(float(row))\n",
    "\n",
    "# Create a list from the Latitude coordinates from the dataframe\n",
    "longitude = []\n",
    "for row in dftest['lon']:\n",
    "        longitude.append(float(row))\n",
    "\n",
    "# Identify the coordinates for map preload. Below is dublin\n",
    "coords = ['53.346035000000001, -6.1338749999999997']\n",
    "#take a string that is a pair of points, return an array of floats\n",
    "def clean_coord(my_coord):\n",
    "    my_coord = my_coord.split(',')\n",
    "    my_coord = [float(sc) for sc in my_coord]\n",
    "    return my_coord"
   ]
  },
  {
   "cell_type": "code",
   "execution_count": 5,
   "metadata": {
    "collapsed": true
   },
   "outputs": [],
   "source": [
    "#define the map starting from the coordinates provided.\n",
    "gmap1 = gmplot.GoogleMapPlotter(clean_coord(coords[0])[0], clean_coord(coords[0])[1], 13)"
   ]
  },
  {
   "cell_type": "code",
   "execution_count": 6,
   "metadata": {
    "collapsed": true
   },
   "outputs": [],
   "source": [
    "# Plot markers from the long and lat provided. \n",
    "gmap1.scatter(latitude, longitude, '#3B0B39', size=50, marker=False)\n",
    "gmap1.draw(\"53map_schedule.html\")"
   ]
  },
  {
   "cell_type": "code",
   "execution_count": 7,
   "metadata": {
    "collapsed": true
   },
   "outputs": [],
   "source": [
    "# Read in a dataframe for pandas. Use a path from your own directories. Files are too big to upload to git.\n",
    "dftest2 = pd.read_csv('84_schedule_test.csv', sep=',', error_bad_lines=False, index_col=False, dtype='unicode')"
   ]
  },
  {
   "cell_type": "code",
   "execution_count": 8,
   "metadata": {
    "collapsed": true
   },
   "outputs": [],
   "source": [
    "# Create a list from the Longitude coordinates from the dataframe\n",
    "latitude = []\n",
    "for row in dftest2['lat']:\n",
    "        latitude.append(float(row))\n",
    "        \n",
    "# Create a list from the Latitude coordinates from the dataframe\n",
    "longitude = []\n",
    "for row in dftest2['lon']:\n",
    "        longitude.append(float(row))\n",
    "\n",
    "# Identify the coordinates for map preload. Below is dublin\n",
    "coords = ['53.346035000000001, -6.1338749999999997']\n",
    "#take a string that is a pair of points, return an array of floats\n",
    "def clean_coord(my_coord):\n",
    "    my_coord = my_coord.split(',')\n",
    "    my_coord = [float(sc) for sc in my_coord]\n",
    "    return my_coord"
   ]
  },
  {
   "cell_type": "code",
   "execution_count": 9,
   "metadata": {
    "collapsed": true
   },
   "outputs": [],
   "source": [
    "#define the map starting from the coordinates provided.\n",
    "gmap2 = gmplot.GoogleMapPlotter(clean_coord(coords[0])[0], clean_coord(coords[0])[1], 13)"
   ]
  },
  {
   "cell_type": "code",
   "execution_count": 10,
   "metadata": {
    "collapsed": true
   },
   "outputs": [],
   "source": [
    "# Plot markers from the long and lat provided. \n",
    "gmap2.scatter(latitude, longitude, '#3B0B39', size=50, marker=False)\n",
    "gmap2.draw(\"84map_schedule.html\")"
   ]
  },
  {
   "cell_type": "code",
   "execution_count": 11,
   "metadata": {
    "collapsed": true
   },
   "outputs": [],
   "source": [
    "# Read in a dataframe for pandas. Use a path from your own directories. Files are too big to upload to git.\n",
    "dftest3 = pd.read_csv('46a_schedule_test.csv', sep=',', error_bad_lines=False, index_col=False, dtype='unicode')"
   ]
  },
  {
   "cell_type": "code",
   "execution_count": 12,
   "metadata": {
    "collapsed": true
   },
   "outputs": [],
   "source": [
    "# Create a list from the Longitude coordinates from the dataframe\n",
    "latitude = []\n",
    "for row in dftest3['lat']:\n",
    "        latitude.append(float(row))\n",
    "        \n",
    "# Create a list from the Latitude coordinates from the dataframe\n",
    "longitude = []\n",
    "for row in dftest3['lon']:\n",
    "        longitude.append(float(row))\n",
    "\n",
    "# Identify the coordinates for map preload. Below is dublin\n",
    "coords = ['53.346035000000001, -6.1338749999999997']\n",
    "#take a string that is a pair of points, return an array of floats\n",
    "def clean_coord(my_coord):\n",
    "    my_coord = my_coord.split(',')\n",
    "    my_coord = [float(sc) for sc in my_coord]\n",
    "    return my_coord"
   ]
  },
  {
   "cell_type": "code",
   "execution_count": 13,
   "metadata": {
    "collapsed": true
   },
   "outputs": [],
   "source": [
    "#define the map starting from the coordinates provided.\n",
    "gmap3 = gmplot.GoogleMapPlotter(clean_coord(coords[0])[0], clean_coord(coords[0])[1], 13)"
   ]
  },
  {
   "cell_type": "code",
   "execution_count": 14,
   "metadata": {
    "collapsed": true
   },
   "outputs": [],
   "source": [
    "# Plot markers from the long and lat provided. \n",
    "gmap3.scatter(latitude, longitude, '#3B0B39', size=50, marker=False)\n",
    "gmap3.draw(\"46amap_schedule.html\")"
   ]
  },
  {
   "cell_type": "markdown",
   "metadata": {},
   "source": [
    "# Read in and plot the three 2012 raw datasets."
   ]
  },
  {
   "cell_type": "code",
   "execution_count": 15,
   "metadata": {
    "collapsed": true
   },
   "outputs": [],
   "source": [
    "# Read in a dataframe for pandas. Use a path from your own directories. Files are too big to upload to git.\n",
    "dftest4 = pd.read_csv('53_2012_raw.csv', sep=',', error_bad_lines=False, index_col=False, dtype='unicode')"
   ]
  },
  {
   "cell_type": "code",
   "execution_count": 16,
   "metadata": {
    "collapsed": true
   },
   "outputs": [],
   "source": [
    "# Create a list from the Longitude coordinates from the dataframe\n",
    "latitude = []\n",
    "for row in dftest4['lat']:\n",
    "        latitude.append(float(row))\n",
    "\n",
    "# Create a list from the Latitude coordinates from the dataframe\n",
    "longitude = []\n",
    "for row in dftest4['lon']:\n",
    "        longitude.append(float(row))\n",
    "\n",
    "# Identify the coordinates for map preload. Below is dublin\n",
    "coords = ['53.346035000000001, -6.1338749999999997']\n",
    "#take a string that is a pair of points, return an array of floats\n",
    "def clean_coord(my_coord):\n",
    "    my_coord = my_coord.split(',')\n",
    "    my_coord = [float(sc) for sc in my_coord]\n",
    "    return my_coord"
   ]
  },
  {
   "cell_type": "code",
   "execution_count": 17,
   "metadata": {
    "collapsed": true
   },
   "outputs": [],
   "source": [
    "#define the map starting from the coordinates provided.\n",
    "gmap4 = gmplot.GoogleMapPlotter(clean_coord(coords[0])[0], clean_coord(coords[0])[1], 13)"
   ]
  },
  {
   "cell_type": "code",
   "execution_count": 18,
   "metadata": {
    "collapsed": true
   },
   "outputs": [],
   "source": [
    "# Plot markers from the long and lat provided. \n",
    "gmap4.scatter(latitude, longitude, color=red, size=50, marker=False)\n",
    "gmap4.draw(\"53_2012raw.html\")"
   ]
  },
  {
   "cell_type": "code",
   "execution_count": 19,
   "metadata": {
    "collapsed": true
   },
   "outputs": [],
   "source": [
    "# Read in a dataframe for pandas. Use a path from your own directories. Files are too big to upload to git.\n",
    "dftest5 = pd.read_csv('46a_2012_raw.csv', sep=',', error_bad_lines=False, index_col=False, dtype='unicode')"
   ]
  },
  {
   "cell_type": "code",
   "execution_count": 20,
   "metadata": {
    "collapsed": true
   },
   "outputs": [],
   "source": [
    "# Create a list from the Longitude coordinates from the dataframe\n",
    "latitude = []\n",
    "for row in dftest5['lat']:\n",
    "        latitude.append(float(row))\n",
    "\n",
    "# Create a list from the Latitude coordinates from the dataframe\n",
    "longitude = []\n",
    "for row in dftest5['lon']:\n",
    "        longitude.append(float(row))\n",
    "\n",
    "# Identify the coordinates for map preload. Below is dublin\n",
    "coords = ['53.346035000000001, -6.1338749999999997']\n",
    "#take a string that is a pair of points, return an array of floats\n",
    "def clean_coord(my_coord):\n",
    "    my_coord = my_coord.split(',')\n",
    "    my_coord = [float(sc) for sc in my_coord]\n",
    "    return my_coord"
   ]
  },
  {
   "cell_type": "code",
   "execution_count": 21,
   "metadata": {
    "collapsed": true
   },
   "outputs": [],
   "source": [
    "#define the map starting from the coordinates provided.\n",
    "gmap5 = gmplot.GoogleMapPlotter(clean_coord(coords[0])[0], clean_coord(coords[0])[1], 13)"
   ]
  },
  {
   "cell_type": "code",
   "execution_count": 22,
   "metadata": {},
   "outputs": [],
   "source": [
    "# Plot markers from the long and lat provided. \n",
    "gmap5.scatter(latitude, longitude, color=red, size=50, marker=False)\n",
    "gmap5.draw(\"46a_2012raw.html\")"
   ]
  },
  {
   "cell_type": "code",
   "execution_count": 23,
   "metadata": {
    "collapsed": true
   },
   "outputs": [],
   "source": [
    "# Read in a dataframe for pandas. Use a path from your own directories. Files are too big to upload to git.\n",
    "dftest6 = pd.read_csv('84_2012_raw.csv', sep=',', error_bad_lines=False, index_col=False, dtype='unicode')"
   ]
  },
  {
   "cell_type": "code",
   "execution_count": 24,
   "metadata": {
    "collapsed": true
   },
   "outputs": [],
   "source": [
    "# Create a list from the Longitude coordinates from the dataframe\n",
    "latitude = []\n",
    "for row in dftest6['lat']:\n",
    "        latitude.append(float(row))\n",
    "\n",
    "# Create a list from the Latitude coordinates from the dataframe\n",
    "longitude = []\n",
    "for row in dftest6['lon']:\n",
    "        longitude.append(float(row))\n",
    "\n",
    "# Identify the coordinates for map preload. Below is dublin\n",
    "coords = ['53.346035000000001, -6.1338749999999997']\n",
    "#take a string that is a pair of points, return an array of floats\n",
    "def clean_coord(my_coord):\n",
    "    my_coord = my_coord.split(',')\n",
    "    my_coord = [float(sc) for sc in my_coord]\n",
    "    return my_coord"
   ]
  },
  {
   "cell_type": "code",
   "execution_count": 25,
   "metadata": {
    "collapsed": true
   },
   "outputs": [],
   "source": [
    "#define the map starting from the coordinates provided.\n",
    "gmap6 = gmplot.GoogleMapPlotter(clean_coord(coords[0])[0], clean_coord(coords[0])[1], 13)"
   ]
  },
  {
   "cell_type": "code",
   "execution_count": 26,
   "metadata": {
    "collapsed": true
   },
   "outputs": [],
   "source": [
    "# Plot markers from the long and lat provided. \n",
    "gmap6.scatter(latitude, longitude, color=red, size=50, marker=False)\n",
    "gmap6.draw(\"84_2012raw.html\")"
   ]
  }
 ],
 "metadata": {
  "anaconda-cloud": {},
  "kernelspec": {
   "display_name": "Python [default]",
   "language": "python",
   "name": "python3"
  },
  "language_info": {
   "codemirror_mode": {
    "name": "ipython",
    "version": 3
   },
   "file_extension": ".py",
   "mimetype": "text/x-python",
   "name": "python",
   "nbconvert_exporter": "python",
   "pygments_lexer": "ipython3",
   "version": "3.5.2"
  }
 },
 "nbformat": 4,
 "nbformat_minor": 2
}
