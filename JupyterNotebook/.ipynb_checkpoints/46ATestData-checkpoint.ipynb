{
 "cells": [
  {
   "cell_type": "code",
   "execution_count": 1,
   "metadata": {
    "collapsed": false
   },
   "outputs": [],
   "source": [
    "import pandas as pd\n",
    "import numpy as np\n",
    "import matplotlib.pyplot as plt\n",
    "import matplotlib.patches as mpatches\n",
    "import datetime\n",
    "from datetime import datetime as dt\n",
    "import time\n",
    "\n",
    "%matplotlib inline"
   ]
  },
  {
   "cell_type": "code",
   "execution_count": 2,
   "metadata": {
    "collapsed": true
   },
   "outputs": [],
   "source": [
    "# Read dataset into the notebook\n",
    "df46A = pd.read_csv('46a.csv')"
   ]
  },
  {
   "cell_type": "code",
   "execution_count": 3,
   "metadata": {
    "collapsed": true
   },
   "outputs": [],
   "source": [
    "# Read dataset into the notebook\n",
    "df46AStops = pd.read_csv('46a_stoptimes.csv')"
   ]
  },
  {
   "cell_type": "code",
   "execution_count": 4,
   "metadata": {
    "collapsed": false
   },
   "outputs": [
    {
     "data": {
      "text/html": [
       "<div>\n",
       "<table border=\"1\" class=\"dataframe\">\n",
       "  <thead>\n",
       "    <tr style=\"text-align: right;\">\n",
       "      <th></th>\n",
       "      <th>Timestamp</th>\n",
       "      <th>LineID</th>\n",
       "      <th>Direction</th>\n",
       "      <th>JourneyPatternID</th>\n",
       "      <th>TimeFrame</th>\n",
       "      <th>VehicleJourneyID</th>\n",
       "      <th>Operator</th>\n",
       "      <th>Congestion</th>\n",
       "      <th>Lon</th>\n",
       "      <th>Lat</th>\n",
       "      <th>Delay</th>\n",
       "      <th>BlockID</th>\n",
       "      <th>VehicleID</th>\n",
       "      <th>StopID</th>\n",
       "      <th>AtStop</th>\n",
       "    </tr>\n",
       "  </thead>\n",
       "  <tbody>\n",
       "    <tr>\n",
       "      <th>0</th>\n",
       "      <td>1970-01-16 15:36:00.000</td>\n",
       "      <td>46</td>\n",
       "      <td>0</td>\n",
       "      <td>046A1002</td>\n",
       "      <td>2012-11-05</td>\n",
       "      <td>7267</td>\n",
       "      <td>D2</td>\n",
       "      <td>0</td>\n",
       "      <td>-6.259093</td>\n",
       "      <td>53.345425</td>\n",
       "      <td>-1101</td>\n",
       "      <td>46004</td>\n",
       "      <td>36024</td>\n",
       "      <td>794</td>\n",
       "      <td>0</td>\n",
       "    </tr>\n",
       "    <tr>\n",
       "      <th>1</th>\n",
       "      <td>1970-01-16 15:36:00.039</td>\n",
       "      <td>46</td>\n",
       "      <td>0</td>\n",
       "      <td>046A1002</td>\n",
       "      <td>2012-11-05</td>\n",
       "      <td>7267</td>\n",
       "      <td>D2</td>\n",
       "      <td>0</td>\n",
       "      <td>-6.255533</td>\n",
       "      <td>53.346035</td>\n",
       "      <td>-1043</td>\n",
       "      <td>46004</td>\n",
       "      <td>36024</td>\n",
       "      <td>320</td>\n",
       "      <td>1</td>\n",
       "    </tr>\n",
       "    <tr>\n",
       "      <th>2</th>\n",
       "      <td>1970-01-16 15:36:00.059</td>\n",
       "      <td>46</td>\n",
       "      <td>0</td>\n",
       "      <td>046A1002</td>\n",
       "      <td>2012-11-05</td>\n",
       "      <td>7267</td>\n",
       "      <td>D2</td>\n",
       "      <td>0</td>\n",
       "      <td>-6.255517</td>\n",
       "      <td>53.346035</td>\n",
       "      <td>-1043</td>\n",
       "      <td>46004</td>\n",
       "      <td>36024</td>\n",
       "      <td>320</td>\n",
       "      <td>1</td>\n",
       "    </tr>\n",
       "    <tr>\n",
       "      <th>3</th>\n",
       "      <td>1970-01-16 15:36:00.079</td>\n",
       "      <td>46</td>\n",
       "      <td>0</td>\n",
       "      <td>046A1002</td>\n",
       "      <td>2012-11-05</td>\n",
       "      <td>7267</td>\n",
       "      <td>D2</td>\n",
       "      <td>0</td>\n",
       "      <td>-6.252850</td>\n",
       "      <td>53.345901</td>\n",
       "      <td>-1043</td>\n",
       "      <td>46004</td>\n",
       "      <td>36024</td>\n",
       "      <td>320</td>\n",
       "      <td>1</td>\n",
       "    </tr>\n",
       "    <tr>\n",
       "      <th>4</th>\n",
       "      <td>1970-01-16 15:36:00.098</td>\n",
       "      <td>46</td>\n",
       "      <td>0</td>\n",
       "      <td>046A1002</td>\n",
       "      <td>2012-11-05</td>\n",
       "      <td>7267</td>\n",
       "      <td>D2</td>\n",
       "      <td>0</td>\n",
       "      <td>-6.252850</td>\n",
       "      <td>53.345901</td>\n",
       "      <td>-983</td>\n",
       "      <td>46004</td>\n",
       "      <td>36024</td>\n",
       "      <td>320</td>\n",
       "      <td>1</td>\n",
       "    </tr>\n",
       "  </tbody>\n",
       "</table>\n",
       "</div>"
      ],
      "text/plain": [
       "                 Timestamp  LineID  Direction JourneyPatternID   TimeFrame  \\\n",
       "0  1970-01-16 15:36:00.000      46          0         046A1002  2012-11-05   \n",
       "1  1970-01-16 15:36:00.039      46          0         046A1002  2012-11-05   \n",
       "2  1970-01-16 15:36:00.059      46          0         046A1002  2012-11-05   \n",
       "3  1970-01-16 15:36:00.079      46          0         046A1002  2012-11-05   \n",
       "4  1970-01-16 15:36:00.098      46          0         046A1002  2012-11-05   \n",
       "\n",
       "   VehicleJourneyID Operator  Congestion       Lon        Lat  Delay  BlockID  \\\n",
       "0              7267       D2           0 -6.259093  53.345425  -1101    46004   \n",
       "1              7267       D2           0 -6.255533  53.346035  -1043    46004   \n",
       "2              7267       D2           0 -6.255517  53.346035  -1043    46004   \n",
       "3              7267       D2           0 -6.252850  53.345901  -1043    46004   \n",
       "4              7267       D2           0 -6.252850  53.345901   -983    46004   \n",
       "\n",
       "   VehicleID  StopID  AtStop  \n",
       "0      36024     794       0  \n",
       "1      36024     320       1  \n",
       "2      36024     320       1  \n",
       "3      36024     320       1  \n",
       "4      36024     320       1  "
      ]
     },
     "execution_count": 4,
     "metadata": {},
     "output_type": "execute_result"
    }
   ],
   "source": [
    "df46A.head(5)"
   ]
  },
  {
   "cell_type": "code",
   "execution_count": 5,
   "metadata": {
    "collapsed": false
   },
   "outputs": [
    {
     "data": {
      "text/html": [
       "<div>\n",
       "<table border=\"1\" class=\"dataframe\">\n",
       "  <thead>\n",
       "    <tr style=\"text-align: right;\">\n",
       "      <th></th>\n",
       "      <th>?trip_id</th>\n",
       "      <th>arrival_time</th>\n",
       "      <th>departure_time</th>\n",
       "      <th>stop_id</th>\n",
       "      <th>stop_sequence</th>\n",
       "      <th>stop_headsign</th>\n",
       "      <th>pickup_type</th>\n",
       "      <th>drop_off_type</th>\n",
       "      <th>shape_dist_traveled</th>\n",
       "      <th>is46A</th>\n",
       "    </tr>\n",
       "  </thead>\n",
       "  <tbody>\n",
       "    <tr>\n",
       "      <th>0</th>\n",
       "      <td>12564.3514.0-46A-b12-1.308.O</td>\n",
       "      <td>07:00:00</td>\n",
       "      <td>07:00:00</td>\n",
       "      <td>8220DB000807</td>\n",
       "      <td>1</td>\n",
       "      <td>Dun Laoghaire</td>\n",
       "      <td>0</td>\n",
       "      <td>0</td>\n",
       "      <td>0.000000</td>\n",
       "      <td>True</td>\n",
       "    </tr>\n",
       "    <tr>\n",
       "      <th>1</th>\n",
       "      <td>12564.3514.0-46A-b12-1.308.O</td>\n",
       "      <td>07:01:03</td>\n",
       "      <td>07:01:03</td>\n",
       "      <td>8220DB000808</td>\n",
       "      <td>2</td>\n",
       "      <td>Dun Laoghaire</td>\n",
       "      <td>0</td>\n",
       "      <td>0</td>\n",
       "      <td>343.962310</td>\n",
       "      <td>True</td>\n",
       "    </tr>\n",
       "    <tr>\n",
       "      <th>2</th>\n",
       "      <td>12564.3514.0-46A-b12-1.308.O</td>\n",
       "      <td>07:01:36</td>\n",
       "      <td>07:01:36</td>\n",
       "      <td>8220DB000809</td>\n",
       "      <td>3</td>\n",
       "      <td>Dun Laoghaire</td>\n",
       "      <td>0</td>\n",
       "      <td>0</td>\n",
       "      <td>535.012042</td>\n",
       "      <td>True</td>\n",
       "    </tr>\n",
       "    <tr>\n",
       "      <th>3</th>\n",
       "      <td>12564.3514.0-46A-b12-1.308.O</td>\n",
       "      <td>07:02:28</td>\n",
       "      <td>07:02:28</td>\n",
       "      <td>8220DB000810</td>\n",
       "      <td>4</td>\n",
       "      <td>Dun Laoghaire</td>\n",
       "      <td>0</td>\n",
       "      <td>0</td>\n",
       "      <td>841.908087</td>\n",
       "      <td>True</td>\n",
       "    </tr>\n",
       "    <tr>\n",
       "      <th>4</th>\n",
       "      <td>12564.3514.0-46A-b12-1.308.O</td>\n",
       "      <td>07:03:00</td>\n",
       "      <td>07:03:00</td>\n",
       "      <td>8220DB000811</td>\n",
       "      <td>5</td>\n",
       "      <td>Dun Laoghaire</td>\n",
       "      <td>0</td>\n",
       "      <td>0</td>\n",
       "      <td>1032.448991</td>\n",
       "      <td>True</td>\n",
       "    </tr>\n",
       "  </tbody>\n",
       "</table>\n",
       "</div>"
      ],
      "text/plain": [
       "                       ?trip_id arrival_time departure_time       stop_id  \\\n",
       "0  12564.3514.0-46A-b12-1.308.O     07:00:00       07:00:00  8220DB000807   \n",
       "1  12564.3514.0-46A-b12-1.308.O     07:01:03       07:01:03  8220DB000808   \n",
       "2  12564.3514.0-46A-b12-1.308.O     07:01:36       07:01:36  8220DB000809   \n",
       "3  12564.3514.0-46A-b12-1.308.O     07:02:28       07:02:28  8220DB000810   \n",
       "4  12564.3514.0-46A-b12-1.308.O     07:03:00       07:03:00  8220DB000811   \n",
       "\n",
       "   stop_sequence  stop_headsign  pickup_type  drop_off_type  \\\n",
       "0              1  Dun Laoghaire            0              0   \n",
       "1              2  Dun Laoghaire            0              0   \n",
       "2              3  Dun Laoghaire            0              0   \n",
       "3              4  Dun Laoghaire            0              0   \n",
       "4              5  Dun Laoghaire            0              0   \n",
       "\n",
       "   shape_dist_traveled is46A  \n",
       "0             0.000000  True  \n",
       "1           343.962310  True  \n",
       "2           535.012042  True  \n",
       "3           841.908087  True  \n",
       "4          1032.448991  True  "
      ]
     },
     "execution_count": 5,
     "metadata": {},
     "output_type": "execute_result"
    }
   ],
   "source": [
    "df46AStops.head(5)"
   ]
  },
  {
   "cell_type": "code",
   "execution_count": 7,
   "metadata": {
    "collapsed": false
   },
   "outputs": [
    {
     "ename": "FileNotFoundError",
     "evalue": "[Errno 2] No such file or directory: 'db_master_2013'",
     "output_type": "error",
     "traceback": [
      "\u001b[0;31m---------------------------------------------------------------------------\u001b[0m",
      "\u001b[0;31mFileNotFoundError\u001b[0m                         Traceback (most recent call last)",
      "\u001b[0;32m<ipython-input-7-ba705f5f07f3>\u001b[0m in \u001b[0;36m<module>\u001b[0;34m()\u001b[0m\n\u001b[1;32m      1\u001b[0m \u001b[1;31m# Read dataset into the notebook\u001b[0m\u001b[1;33m\u001b[0m\u001b[1;33m\u001b[0m\u001b[0m\n\u001b[0;32m----> 2\u001b[0;31m \u001b[0mdfS\u001b[0m \u001b[1;33m=\u001b[0m \u001b[0mpd\u001b[0m\u001b[1;33m.\u001b[0m\u001b[0mread_excel\u001b[0m\u001b[1;33m(\u001b[0m\u001b[0mopen\u001b[0m\u001b[1;33m(\u001b[0m\u001b[1;34m'db_master_2013'\u001b[0m\u001b[1;33m,\u001b[0m\u001b[1;34m'rb'\u001b[0m\u001b[1;33m)\u001b[0m\u001b[1;33m,\u001b[0m \u001b[0msheetname\u001b[0m\u001b[1;33m=\u001b[0m\u001b[1;34m'Sheet 1'\u001b[0m\u001b[1;33m)\u001b[0m\u001b[1;33m\u001b[0m\u001b[0m\n\u001b[0m",
      "\u001b[0;31mFileNotFoundError\u001b[0m: [Errno 2] No such file or directory: 'db_master_2013'"
     ]
    }
   ],
   "source": [
    "# Read dataset into the notebook\n",
    "dfS = pd.read_excel(open('db_master_2013.xlsx','rb'), sheetname='Sheet 1')"
   ]
  },
  {
   "cell_type": "code",
   "execution_count": null,
   "metadata": {
    "collapsed": false
   },
   "outputs": [],
   "source": [
    "dfS.head(5)"
   ]
  },
  {
   "cell_type": "code",
   "execution_count": null,
   "metadata": {
    "collapsed": true
   },
   "outputs": [],
   "source": [
    "df.to_csv('file.csv',encoding='utf-8-sig')"
   ]
  }
 ],
 "metadata": {
  "anaconda-cloud": {},
  "kernelspec": {
   "display_name": "Python 3",
   "language": "python",
   "name": "python3"
  },
  "language_info": {
   "codemirror_mode": {
    "name": "ipython",
    "version": 3
   },
   "file_extension": ".py",
   "mimetype": "text/x-python",
   "name": "python",
   "nbconvert_exporter": "python",
   "pygments_lexer": "ipython3",
   "version": "3.5.2"
  }
 },
 "nbformat": 4,
 "nbformat_minor": 1
}
